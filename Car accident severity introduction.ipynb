{
    "cells": [
        {
            "cell_type": "markdown",
            "metadata": {
                "collapsed": true
            },
            "source": "# Auto insurance claims"
        },
        {
            "cell_type": "markdown",
            "metadata": {},
            "source": "Now cars have been very popular, every car basically needs to buy insurance, so every day there are a lot of car accidents need to be assessed, and then claim.Insurance companies need to cultivate a large number of personnel to accident assessment, evaluation results hate big depends on the personal experience, the accuracy of the result of the accident assessment brings adverse impact, in order to improve the accident assessment accuracy, we need an accurate model, using the model can improve the assessment accuracy, and shorten the assessment in time, to reduce the difficulty and also reduce staff capacity requirements, and indirectly reduce the cost of insurance company personnel."
        },
        {
            "cell_type": "markdown",
            "metadata": {},
            "source": "So we need to use machine learning methods based on accident history data.Simplify accident assessment through data understanding, data preprocessing and cleaning, modeling, evaluation, deployment, and other steps."
        }
    ],
    "metadata": {
        "kernelspec": {
            "display_name": "Python 3.6",
            "language": "python",
            "name": "python3"
        },
        "language_info": {
            "codemirror_mode": {
                "name": "ipython",
                "version": 3
            },
            "file_extension": ".py",
            "mimetype": "text/x-python",
            "name": "python",
            "nbconvert_exporter": "python",
            "pygments_lexer": "ipython3",
            "version": "3.6.9"
        }
    },
    "nbformat": 4,
    "nbformat_minor": 1
}