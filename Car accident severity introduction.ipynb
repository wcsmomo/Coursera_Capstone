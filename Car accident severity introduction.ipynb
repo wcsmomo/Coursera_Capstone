{
    "cells": [
        {
            "metadata": {
                "collapsed": true
            },
            "cell_type": "markdown",
            "source": "# The car insurance company evaluates accident losses"
        },
        {
            "metadata": {},
            "cell_type": "markdown",
            "source": "Now cars have been very popular, every car basically needs to buy insurance, so every day there are a lot of car accidents need to be assessed, and then claim.Insurance companies need to cultivate a large number of personnel to accident assessment, evaluation results hate big depends on the personal experience, the accuracy of the result of the accident assessment brings adverse impact, in order to improve the accident assessment accuracy, we need an accurate model, using the model can improve the assessment accuracy, and shorten the assessment in time, to reduce the difficulty and also reduce staff capacity requirements, and indirectly reduce the cost of insurance company personnel."
        },
        {
            "metadata": {},
            "cell_type": "markdown",
            "source": "So we need to use machine learning methods based on accident history data.Simplify accident assessment through data understanding, data preprocessing and cleaning, modeling, evaluation, deployment, and other steps."
        },
        {
            "metadata": {},
            "cell_type": "markdown",
            "source": "## Understand and select data"
        },
        {
            "metadata": {},
            "cell_type": "markdown",
            "source": "Remove the date, description, and KEY columns from your Data-cancers Data,Leave ADDRTYPE, SEVERITYCODE, COLLISIONTYPE, PERSONCOUNT, PEDCYLCOUNT, VEHCOUNT, JUNCTIONTYPE, SDOT_COLCODE, UNDERINFL, WEATHER, ROADCOND, LIGHTCOND, ST_COLCODE, with SEVERITYCODE column as the result column.These data are preprocessed and then the correlation analysis is performed to analyze the correlation between each column and the result column."
        },
        {
            "metadata": {},
            "cell_type": "markdown",
            "source": "## Preprocessing data"
        },
        {
            "metadata": {},
            "cell_type": "code",
            "source": "import pandas as pd\nimport numpy as np\n",
            "execution_count": 68,
            "outputs": []
        },
        {
            "metadata": {},
            "cell_type": "code",
            "source": "\nimport types\nfrom botocore.client import Config\nimport ibm_boto3\n\ndef __iter__(self): return 0\n\n# @hidden_cell\n# The following code accesses a file in your IBM Cloud Object Storage. It includes your credentials.\n# You might want to remove those credentials before you share the notebook.\nclient_54ef78f057614ac49310c7345b9815a6 = ibm_boto3.client(service_name='s3',\n    ibm_api_key_id='F7g-2TQrSB5xBhQd6vgusAEZNeXxJMz0IlY4bLnoR3et',\n    ibm_auth_endpoint=\"https://iam.cloud.ibm.com/oidc/token\",\n    config=Config(signature_version='oauth'),\n    endpoint_url='https://s3.eu-geo.objectstorage.service.networklayer.com')\n\nbody = client_54ef78f057614ac49310c7345b9815a6.get_object(Bucket='predictbuyingbehaviorwithml-donotdelete-pr-onewgy1h6tr5bc',Key='Data-Collisions.csv')['Body']\n# add missing __iter__ method, so pandas accepts body as file-like object\nif not hasattr(body, \"__iter__\"): body.__iter__ = types.MethodType( __iter__, body )\n\ndf_data_1 = pd.read_csv(body)\n",
            "execution_count": 69,
            "outputs": [
                {
                    "output_type": "stream",
                    "text": "/opt/conda/envs/Python36/lib/python3.6/site-packages/IPython/core/interactiveshell.py:3020: DtypeWarning: Columns (33) have mixed types. Specify dtype option on import or set low_memory=False.\n  interactivity=interactivity, compiler=compiler, result=result)\n",
                    "name": "stderr"
                }
            ]
        },
        {
            "metadata": {},
            "cell_type": "code",
            "source": "cols = [\"ADDRTYPE\",\"COLLISIONTYPE\",\"PERSONCOUNT\",\"PEDCYLCOUNT\",\"VEHCOUNT\",\"JUNCTIONTYPE\",\\\n                     \"SDOT_COLCODE\",\"UNDERINFL\",\"WEATHER\",\"ROADCOND\",\"LIGHTCOND\",\"ST_COLCODE\",\"SEVERITYCODE\"]",
            "execution_count": 70,
            "outputs": []
        },
        {
            "metadata": {},
            "cell_type": "code",
            "source": "df_data = df_data_1[cols]\n",
            "execution_count": 71,
            "outputs": []
        },
        {
            "metadata": {},
            "cell_type": "code",
            "source": "# The statistical null values\nmissing_data = df_data.isnull()\n\nfor column in missing_data.columns.values.tolist():\n    print(column)\n    print (missing_data[column].value_counts())\n    print(\"\")",
            "execution_count": 72,
            "outputs": [
                {
                    "output_type": "stream",
                    "text": "ADDRTYPE\nFalse    192747\nTrue       1926\nName: ADDRTYPE, dtype: int64\n\nCOLLISIONTYPE\nFalse    189769\nTrue       4904\nName: COLLISIONTYPE, dtype: int64\n\nPERSONCOUNT\nFalse    194673\nName: PERSONCOUNT, dtype: int64\n\nPEDCYLCOUNT\nFalse    194673\nName: PEDCYLCOUNT, dtype: int64\n\nVEHCOUNT\nFalse    194673\nName: VEHCOUNT, dtype: int64\n\nJUNCTIONTYPE\nFalse    188344\nTrue       6329\nName: JUNCTIONTYPE, dtype: int64\n\nSDOT_COLCODE\nFalse    194673\nName: SDOT_COLCODE, dtype: int64\n\nUNDERINFL\nFalse    189789\nTrue       4884\nName: UNDERINFL, dtype: int64\n\nWEATHER\nFalse    189592\nTrue       5081\nName: WEATHER, dtype: int64\n\nROADCOND\nFalse    189661\nTrue       5012\nName: ROADCOND, dtype: int64\n\nLIGHTCOND\nFalse    189503\nTrue       5170\nName: LIGHTCOND, dtype: int64\n\nST_COLCODE\nFalse    194655\nTrue         18\nName: ST_COLCODE, dtype: int64\n\nSEVERITYCODE\nFalse    194673\nName: SEVERITYCODE, dtype: int64\n\n",
                    "name": "stdout"
                }
            ]
        },
        {
            "metadata": {},
            "cell_type": "code",
            "source": "df_data = df_data.dropna(subset=[\"ADDRTYPE\"], axis=0)\ndf_data = df_data.dropna(subset=[\"COLLISIONTYPE\"], axis=0)\ndf_data = df_data.dropna(subset=[\"JUNCTIONTYPE\"], axis=0)\ndf_data = df_data.dropna(subset=[\"UNDERINFL\"], axis=0)\ndf_data = df_data.dropna(subset=[\"WEATHER\"], axis=0)\ndf_data = df_data.dropna(subset=[\"ROADCOND\"], axis=0)\ndf_data = df_data.dropna(subset=[\"LIGHTCOND\"], axis=0)\ndf_data = df_data.dropna(subset=[\"ST_COLCODE\"], axis=0)\ndf_data.count()",
            "execution_count": 73,
            "outputs": [
                {
                    "output_type": "execute_result",
                    "execution_count": 73,
                    "data": {
                        "text/plain": "ADDRTYPE         182895\nCOLLISIONTYPE    182895\nPERSONCOUNT      182895\nPEDCYLCOUNT      182895\nVEHCOUNT         182895\nJUNCTIONTYPE     182895\nSDOT_COLCODE     182895\nUNDERINFL        182895\nWEATHER          182895\nROADCOND         182895\nLIGHTCOND        182895\nST_COLCODE       182895\nSEVERITYCODE     182895\ndtype: int64"
                    },
                    "metadata": {}
                }
            ]
        },
        {
            "metadata": {},
            "cell_type": "code",
            "source": "df_data[\"ADDRTYPE\"].value_counts()",
            "execution_count": 74,
            "outputs": [
                {
                    "output_type": "execute_result",
                    "execution_count": 74,
                    "data": {
                        "text/plain": "Block           119362\nIntersection     63298\nAlley              235\nName: ADDRTYPE, dtype: int64"
                    },
                    "metadata": {}
                }
            ]
        },
        {
            "metadata": {},
            "cell_type": "code",
            "source": "from sklearn import preprocessing\nlab_ADDRTYPE = preprocessing.LabelEncoder()\nlab_ADDRTYPE.fit(['Block','Intersection','Alley'])\nADDRTYPE_col = lab_ADDRTYPE.transform(df_data[\"ADDRTYPE\"]) \nADDRTYPE_col[0:20]",
            "execution_count": 75,
            "outputs": [
                {
                    "output_type": "execute_result",
                    "execution_count": 75,
                    "data": {
                        "text/plain": "array([2, 1, 1, 1, 2, 2, 2, 2, 1, 2, 0, 2, 1, 1, 1, 2, 1, 1, 1, 1])"
                    },
                    "metadata": {}
                }
            ]
        },
        {
            "metadata": {},
            "cell_type": "code",
            "source": "lab_COLLISIONTYPE = preprocessing.LabelEncoder()\nlab_COLLISIONTYPE.fit(['Parked Car','Angles','Rear Ended','Other','Sideswipe','Left Turn','Pedestrian','Cycles','Right Turn','Head On'])\nCOLLISIONTYPE_col = lab_COLLISIONTYPE.transform(df_data[\"COLLISIONTYPE\"]) \nCOLLISIONTYPE_col[0:20]",
            "execution_count": 76,
            "outputs": [
                {
                    "output_type": "execute_result",
                    "execution_count": 76,
                    "data": {
                        "text/plain": "array([0, 9, 5, 4, 0, 0, 0, 1, 5, 0, 4, 0, 7, 5, 2, 3, 7, 7, 5, 7])"
                    },
                    "metadata": {}
                }
            ]
        },
        {
            "metadata": {},
            "cell_type": "code",
            "source": "lab_JUNCTIONTYPE = preprocessing.LabelEncoder()\nJUNCTIONTYPE_values = ['Mid-Block (not related to intersection)','At Intersection (intersection related)','Mid-Block (but intersection related)',\\\n                      'Driveway Junction','At Intersection (but not related to intersection)','Unknown','Ramp Junction']\nlab_JUNCTIONTYPE.fit(JUNCTIONTYPE_values)\nJUNCTIONTYPE_col = lab_JUNCTIONTYPE.transform(df_data[\"JUNCTIONTYPE\"]) \nJUNCTIONTYPE_col[0:30]",
            "execution_count": 77,
            "outputs": [
                {
                    "output_type": "execute_result",
                    "execution_count": 77,
                    "data": {
                        "text/plain": "array([1, 4, 4, 4, 1, 1, 1, 1, 4, 1, 2, 1, 4, 4, 4, 1, 3, 4, 4, 4, 1, 4,\n       4, 1, 4, 1, 2, 4, 4, 1])"
                    },
                    "metadata": {}
                }
            ]
        },
        {
            "metadata": {},
            "cell_type": "code",
            "source": "lab_UNDERINFL = preprocessing.LabelEncoder()\nUNDERINFL_values = ['N','0','Y','1']\nlab_UNDERINFL.fit(UNDERINFL_values)\nUNDERINFL_col = lab_UNDERINFL.transform(df_data[\"UNDERINFL\"]) \nUNDERINFL_col[0:30]",
            "execution_count": 78,
            "outputs": [
                {
                    "output_type": "execute_result",
                    "execution_count": 78,
                    "data": {
                        "text/plain": "array([2, 0, 0, 2, 0, 2, 0, 2, 0, 0, 0, 0, 0, 0, 2, 0, 0, 2, 0, 2, 2, 0,\n       0, 2, 2, 2, 0, 2, 0, 0])"
                    },
                    "metadata": {}
                }
            ]
        },
        {
            "metadata": {},
            "cell_type": "code",
            "source": "lab_WEATHER = preprocessing.LabelEncoder()\nWEATHER_values = ['Clear','Raining','Overcast','Unknown','Snowing','Other','Fog/Smog/Smoke','Sleet/Hail/Freezing Rain','Blowing Sand/Dirt','Severe Crosswind'\\\n               ,'Partly Cloudy']\nlab_WEATHER.fit(WEATHER_values)\nWEATHER_col = lab_WEATHER.transform(df_data[\"WEATHER\"]) \nWEATHER_col[0:30]",
            "execution_count": 79,
            "outputs": [
                {
                    "output_type": "execute_result",
                    "execution_count": 79,
                    "data": {
                        "text/plain": "array([ 4,  6,  4,  1,  6,  1,  6,  1,  1,  1,  4,  1,  6,  6,  1,  4,  4,\n        1, 10,  1,  1,  1, 10,  1,  1,  4,  1,  1,  1,  6])"
                    },
                    "metadata": {}
                }
            ]
        },
        {
            "metadata": {},
            "cell_type": "code",
            "source": "lab_ROADCOND = preprocessing.LabelEncoder()\nROADCOND_values = ['Dry','Wet','Unknown','Ice','Snow/Slush','Other','Standing Water','Sand/Mud/Dirt','Oil']\nlab_ROADCOND.fit(ROADCOND_values)\nROADCOND_col = lab_ROADCOND.transform(df_data[\"ROADCOND\"]) \nROADCOND_col[0:30]",
            "execution_count": 80,
            "outputs": [
                {
                    "output_type": "execute_result",
                    "execution_count": 80,
                    "data": {
                        "text/plain": "array([8, 8, 0, 0, 8, 0, 8, 0, 0, 0, 0, 0, 8, 8, 0, 0, 0, 0, 0, 0, 0, 0,\n       7, 0, 0, 8, 0, 0, 0, 8])"
                    },
                    "metadata": {}
                }
            ]
        },
        {
            "metadata": {},
            "cell_type": "code",
            "source": "lab_LIGHTCOND = preprocessing.LabelEncoder()\nLIGHTCOND_values = ['Daylight','Dark - Street Lights On','Unknown','Dusk','Dawn','Dark - No Street Lights','Dark - Street Lights Off',\\\n                    'Other','Dark - Unknown Lighting']\nlab_LIGHTCOND.fit(LIGHTCOND_values)\nLIGHTCOND_col = lab_LIGHTCOND.transform(df_data[\"LIGHTCOND\"]) \nLIGHTCOND_col[0:30]",
            "execution_count": 81,
            "outputs": [
                {
                    "output_type": "execute_result",
                    "execution_count": 81,
                    "data": {
                        "text/plain": "array([5, 2, 5, 5, 5, 5, 5, 5, 5, 5, 5, 5, 2, 0, 2, 5, 5, 5, 8, 2, 5, 2,\n       8, 5, 5, 8, 5, 5, 5, 2])"
                    },
                    "metadata": {}
                }
            ]
        },
        {
            "metadata": {},
            "cell_type": "code",
            "source": "df_data[\"ADDRTYPE\"] = ADDRTYPE_col\ndf_data[\"LIGHTCOND\"] = LIGHTCOND_col\ndf_data[\"ROADCOND\"] = ROADCOND_col\ndf_data[\"WEATHER\"] = WEATHER_col\ndf_data[\"UNDERINFL\"] = UNDERINFL_col\ndf_data[\"JUNCTIONTYPE\"] = JUNCTIONTYPE_col\ndf_data[\"COLLISIONTYPE\"] = COLLISIONTYPE_col\n\ndf_data.head()",
            "execution_count": 82,
            "outputs": [
                {
                    "output_type": "execute_result",
                    "execution_count": 82,
                    "data": {
                        "text/plain": "   ADDRTYPE  COLLISIONTYPE  PERSONCOUNT  PEDCYLCOUNT  VEHCOUNT  JUNCTIONTYPE  \\\n0         2              0            2            0         2             1   \n1         1              9            2            0         2             4   \n2         1              5            4            0         3             4   \n3         1              4            3            0         3             4   \n4         2              0            2            0         2             1   \n\n   SDOT_COLCODE  UNDERINFL  WEATHER  ROADCOND  LIGHTCOND ST_COLCODE  \\\n0            11          2        4         8          5         10   \n1            16          0        6         8          2         11   \n2            14          0        4         0          5         32   \n3            11          2        1         0          5         23   \n4            11          0        6         8          5         10   \n\n   SEVERITYCODE  \n0             2  \n1             1  \n2             1  \n3             1  \n4             2  ",
                        "text/html": "<div>\n<style scoped>\n    .dataframe tbody tr th:only-of-type {\n        vertical-align: middle;\n    }\n\n    .dataframe tbody tr th {\n        vertical-align: top;\n    }\n\n    .dataframe thead th {\n        text-align: right;\n    }\n</style>\n<table border=\"1\" class=\"dataframe\">\n  <thead>\n    <tr style=\"text-align: right;\">\n      <th></th>\n      <th>ADDRTYPE</th>\n      <th>COLLISIONTYPE</th>\n      <th>PERSONCOUNT</th>\n      <th>PEDCYLCOUNT</th>\n      <th>VEHCOUNT</th>\n      <th>JUNCTIONTYPE</th>\n      <th>SDOT_COLCODE</th>\n      <th>UNDERINFL</th>\n      <th>WEATHER</th>\n      <th>ROADCOND</th>\n      <th>LIGHTCOND</th>\n      <th>ST_COLCODE</th>\n      <th>SEVERITYCODE</th>\n    </tr>\n  </thead>\n  <tbody>\n    <tr>\n      <th>0</th>\n      <td>2</td>\n      <td>0</td>\n      <td>2</td>\n      <td>0</td>\n      <td>2</td>\n      <td>1</td>\n      <td>11</td>\n      <td>2</td>\n      <td>4</td>\n      <td>8</td>\n      <td>5</td>\n      <td>10</td>\n      <td>2</td>\n    </tr>\n    <tr>\n      <th>1</th>\n      <td>1</td>\n      <td>9</td>\n      <td>2</td>\n      <td>0</td>\n      <td>2</td>\n      <td>4</td>\n      <td>16</td>\n      <td>0</td>\n      <td>6</td>\n      <td>8</td>\n      <td>2</td>\n      <td>11</td>\n      <td>1</td>\n    </tr>\n    <tr>\n      <th>2</th>\n      <td>1</td>\n      <td>5</td>\n      <td>4</td>\n      <td>0</td>\n      <td>3</td>\n      <td>4</td>\n      <td>14</td>\n      <td>0</td>\n      <td>4</td>\n      <td>0</td>\n      <td>5</td>\n      <td>32</td>\n      <td>1</td>\n    </tr>\n    <tr>\n      <th>3</th>\n      <td>1</td>\n      <td>4</td>\n      <td>3</td>\n      <td>0</td>\n      <td>3</td>\n      <td>4</td>\n      <td>11</td>\n      <td>2</td>\n      <td>1</td>\n      <td>0</td>\n      <td>5</td>\n      <td>23</td>\n      <td>1</td>\n    </tr>\n    <tr>\n      <th>4</th>\n      <td>2</td>\n      <td>0</td>\n      <td>2</td>\n      <td>0</td>\n      <td>2</td>\n      <td>1</td>\n      <td>11</td>\n      <td>0</td>\n      <td>6</td>\n      <td>8</td>\n      <td>5</td>\n      <td>10</td>\n      <td>2</td>\n    </tr>\n  </tbody>\n</table>\n</div>"
                    },
                    "metadata": {}
                }
            ]
        },
        {
            "metadata": {},
            "cell_type": "code",
            "source": "x_cols = [\"ADDRTYPE\",\"COLLISIONTYPE\",\"PERSONCOUNT\",\"PEDCYLCOUNT\",\"VEHCOUNT\",\"JUNCTIONTYPE\",\"SDOT_COLCODE\",\\\n\"UNDERINFL\",\"WEATHER\",\"ROADCOND\",\"LIGHTCOND\",\"ST_COLCODE\"]\nx_df_data = df_data[x_cols]\n#x_df_data.head()\nX = preprocessing.StandardScaler().fit(x_df_data).transform(x_df_data.astype(float))\nX[0:2]",
            "execution_count": 86,
            "outputs": [
                {
                    "output_type": "stream",
                    "text": "/opt/conda/envs/Python36/lib/python3.6/site-packages/sklearn/preprocessing/data.py:645: DataConversionWarning: Data with input dtype int64, object were all converted to float64 by StandardScaler.\n  return self.partial_fit(X, y)\n",
                    "name": "stderr"
                },
                {
                    "output_type": "execute_result",
                    "execution_count": 86,
                    "data": {
                        "text/plain": "array([[ 1.37070179, -1.59060052, -0.34741051, -0.17401012,  0.04974136,\n        -1.24630968, -0.51842213,  0.84077056,  0.37890804,  1.50522231,\n         0.39208916, -0.86330544],\n       [-0.72134794,  1.60132589, -0.34741051, -0.17401012,  0.04974136,\n         0.93401103,  0.25203914, -1.1201036 ,  1.11150123,  1.50522231,\n        -1.40797978, -0.79469881]])"
                    },
                    "metadata": {}
                }
            ]
        },
        {
            "metadata": {},
            "cell_type": "code",
            "source": "#Correlation analysis\ndf_data_corr = pd.DataFrame(data=df_data, columns = cols)\ndf_data_corr.corr()['SEVERITYCODE'].sort_values()",
            "execution_count": 87,
            "outputs": [
                {
                    "output_type": "execute_result",
                    "execution_count": 87,
                    "data": {
                        "text/plain": "JUNCTIONTYPE    -0.200887\nCOLLISIONTYPE   -0.127117\nWEATHER         -0.090768\nVEHCOUNT        -0.081166\nLIGHTCOND       -0.042661\nROADCOND        -0.037238\nUNDERINFL        0.042745\nPERSONCOUNT      0.124545\nSDOT_COLCODE     0.164886\nADDRTYPE         0.192744\nPEDCYLCOUNT      0.214043\nSEVERITYCODE     1.000000\nName: SEVERITYCODE, dtype: float64"
                    },
                    "metadata": {}
                }
            ]
        },
        {
            "metadata": {},
            "cell_type": "markdown",
            "source": "All the columns have some correlation, so all the columns are left."
        },
        {
            "metadata": {},
            "cell_type": "code",
            "source": "Y = df_data[\"SEVERITYCODE\"]\nY = Y.values\nY[0:2]",
            "execution_count": 91,
            "outputs": [
                {
                    "output_type": "execute_result",
                    "execution_count": 91,
                    "data": {
                        "text/plain": "array([2, 1])"
                    },
                    "metadata": {}
                }
            ]
        },
        {
            "metadata": {},
            "cell_type": "markdown",
            "source": "## Modeling and Training"
        },
        {
            "metadata": {},
            "cell_type": "code",
            "source": "from sklearn.model_selection import train_test_split\nx_train, x_test, y_train, y_test = train_test_split(X, Y, test_size=0.15, random_state=1)",
            "execution_count": 92,
            "outputs": []
        },
        {
            "metadata": {},
            "cell_type": "code",
            "source": "from sklearn.linear_model import LogisticRegression\nfrom sklearn.metrics import jaccard_similarity_score\n\n\nc_s = np.linspace(0.005,0.1, 20)\ntest_scores = []\nfor c in c_s:\n    LR = LogisticRegression(C=c, solver='liblinear').fit(x_train,y_train)\n    yhat = LR.predict(x_test)\n\n    jac_score = jaccard_similarity_score(y_test, yhat)\n    test_scores.append(jac_score)\nplt.plot(c_s, test_scores, label = 'score')\nplt.xlabel('C')\nplt.ylabel('score')\nplt.title('score - c')\nplt.legend()",
            "execution_count": 95,
            "outputs": [
                {
                    "output_type": "execute_result",
                    "execution_count": 95,
                    "data": {
                        "text/plain": "<matplotlib.legend.Legend at 0x7f5021f51be0>"
                    },
                    "metadata": {}
                },
                {
                    "output_type": "display_data",
                    "data": {
                        "text/plain": "<Figure size 432x288 with 1 Axes>",
                        "image/png": "[encoded data removed]"
                    },
                    "metadata": {
                        "needs_background": "light"
                    }
                }
            ]
        },
        {
            "metadata": {},
            "cell_type": "markdown",
            "source": "As can be seen from the figure above, when C=0.05, score reaches a large value, so C is taken as 0.05."
        },
        {
            "metadata": {},
            "cell_type": "code",
            "source": "c=0.05\nLR = LogisticRegression(C=c, solver='liblinear').fit(x_train,y_train)\n",
            "execution_count": 97,
            "outputs": []
        },
        {
            "metadata": {},
            "cell_type": "markdown",
            "source": "## Model Evaluation "
        },
        {
            "metadata": {},
            "cell_type": "code",
            "source": "yhat = LR.predict(x_test)\n\njac_score = jaccard_similarity_score(y_test, yhat)\nprint(\"jac_score = %.2f\"%jac_score)",
            "execution_count": 99,
            "outputs": [
                {
                    "output_type": "stream",
                    "text": "jac_score = 0.74\n",
                    "name": "stdout"
                }
            ]
        }
    ],
    "metadata": {
        "kernelspec": {
            "name": "python3",
            "display_name": "Python 3.6",
            "language": "python"
        },
        "language_info": {
            "name": "python",
            "version": "3.6.9",
            "mimetype": "text/x-python",
            "codemirror_mode": {
                "name": "ipython",
                "version": 3
            },
            "pygments_lexer": "ipython3",
            "nbconvert_exporter": "python",
            "file_extension": ".py"
        }
    },
    "nbformat": 4,
    "nbformat_minor": 1
}